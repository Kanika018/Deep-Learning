{
  "nbformat": 4,
  "nbformat_minor": 0,
  "metadata": {
    "colab": {
      "name": "day 16 tokenize nltk",
      "version": "0.3.2",
      "provenance": [],
      "collapsed_sections": [],
      "include_colab_link": true
    },
    "kernelspec": {
      "name": "python3",
      "display_name": "Python 3"
    }
  },
  "cells": [
    {
      "cell_type": "markdown",
      "metadata": {
        "id": "view-in-github",
        "colab_type": "text"
      },
      "source": [
        "<a href=\"https://colab.research.google.com/github/Kanika018/Deep-Learning/blob/master/day_16_tokenize_nltk.ipynb\" target=\"_parent\"><img src=\"https://colab.research.google.com/assets/colab-badge.svg\" alt=\"Open In Colab\"/></a>"
      ]
    },
    {
      "cell_type": "code",
      "metadata": {
        "id": "H3QKB1cGQ1iY",
        "colab_type": "code",
        "colab": {}
      },
      "source": [
        "msg='''\n",
        "It’s okay to be scared sometimes. Courage is the ability to face your fears not hide them.\n",
        "FEAR has two meanings:\n",
        "Forget Everything and Run.\n",
        "OR\n",
        "Face Everything and Rise.\n",
        "The choice is yours!\n",
        "Too many of us are not living our dreams because we are living our fears. Fear is one of the most prevalant human emotions and us capable of dominating your behaviour or actions. Fear literally has the ability to paralyze you.\n",
        "Fear controls us in every way. It stops us from taking initiatives. The fear of rejection stops us to take further steps like starting a conversation or introducing ourselves! This is indeed a great\n",
        "'''"
      ],
      "execution_count": 0,
      "outputs": []
    },
    {
      "cell_type": "code",
      "metadata": {
        "id": "HK-6XBbyYtGS",
        "colab_type": "code",
        "colab": {
          "base_uri": "https://localhost:8080/",
          "height": 50
        },
        "outputId": "4aaf3dd4-df61-4733-d735-4735e8eb714e"
      },
      "source": [
        "# import tokenizer\n",
        "from nltk.tokenize import sent_tokenize\n",
        "from nltk.tokenize import word_tokenize\n",
        "import nltk\n",
        "nltk.download('punkt')\n",
        "from nltk.corpus import stopwords"
      ],
      "execution_count": 19,
      "outputs": [
        {
          "output_type": "stream",
          "text": [
            "[nltk_data] Downloading package punkt to /root/nltk_data...\n",
            "[nltk_data]   Package punkt is already up-to-date!\n"
          ],
          "name": "stdout"
        }
      ]
    },
    {
      "cell_type": "code",
      "metadata": {
        "id": "TFaDHIBiZCl8",
        "colab_type": "code",
        "colab": {}
      },
      "source": [
        "sent=sent_tokenize(msg)"
      ],
      "execution_count": 0,
      "outputs": []
    },
    {
      "cell_type": "code",
      "metadata": {
        "id": "23iCOnCcZG3L",
        "colab_type": "code",
        "colab": {
          "base_uri": "https://localhost:8080/",
          "height": 217
        },
        "outputId": "2788cd90-90df-4b25-e734-01f745cd8c56"
      },
      "source": [
        "sent"
      ],
      "execution_count": 21,
      "outputs": [
        {
          "output_type": "execute_result",
          "data": {
            "text/plain": [
              "['\\nIt’s okay to be scared sometimes.',\n",
              " 'Courage is the ability to face your fears not hide them.',\n",
              " 'FEAR has two meanings:\\nForget Everything and Run.',\n",
              " 'OR\\nFace Everything and Rise.',\n",
              " 'The choice is yours!',\n",
              " 'Too many of us are not living our dreams because we are living our fears.',\n",
              " 'Fear is one of the most prevalant human emotions and us capable of dominating your behaviour or actions.',\n",
              " 'Fear literally has the ability to paralyze you.',\n",
              " 'Fear controls us in every way.',\n",
              " 'It stops us from taking initiatives.',\n",
              " 'The fear of rejection stops us to take further steps like starting a conversation or introducing ourselves!',\n",
              " 'This is indeed a great']"
            ]
          },
          "metadata": {
            "tags": []
          },
          "execution_count": 21
        }
      ]
    },
    {
      "cell_type": "code",
      "metadata": {
        "id": "AExa8BmJZikg",
        "colab_type": "code",
        "colab": {
          "base_uri": "https://localhost:8080/",
          "height": 33
        },
        "outputId": "0248e9dc-648e-4d2a-ac5a-2e005699125b"
      },
      "source": [
        "len(sent)\n"
      ],
      "execution_count": 22,
      "outputs": [
        {
          "output_type": "execute_result",
          "data": {
            "text/plain": [
              "12"
            ]
          },
          "metadata": {
            "tags": []
          },
          "execution_count": 22
        }
      ]
    },
    {
      "cell_type": "code",
      "metadata": {
        "id": "KzZHnnT9Z0Pu",
        "colab_type": "code",
        "colab": {}
      },
      "source": [
        "word=word_tokenize(msg)"
      ],
      "execution_count": 0,
      "outputs": []
    },
    {
      "cell_type": "code",
      "metadata": {
        "id": "wBgV3DpUZ5BU",
        "colab_type": "code",
        "colab": {
          "base_uri": "https://localhost:8080/",
          "height": 33
        },
        "outputId": "a1811b1f-1b3e-407a-94c4-32e79607e18b"
      },
      "source": [
        "len(word)"
      ],
      "execution_count": 24,
      "outputs": [
        {
          "output_type": "execute_result",
          "data": {
            "text/plain": [
              "123"
            ]
          },
          "metadata": {
            "tags": []
          },
          "execution_count": 24
        }
      ]
    },
    {
      "cell_type": "code",
      "metadata": {
        "id": "5XIhyr5zaBgU",
        "colab_type": "code",
        "colab": {}
      },
      "source": [
        "new_words=[i for i in word if i.lower() not in stopwords.words('english')]"
      ],
      "execution_count": 0,
      "outputs": []
    },
    {
      "cell_type": "code",
      "metadata": {
        "id": "isSWCJQzb6vR",
        "colab_type": "code",
        "colab": {}
      },
      "source": [
        ""
      ],
      "execution_count": 0,
      "outputs": []
    }
  ]
}