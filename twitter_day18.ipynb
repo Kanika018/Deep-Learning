{
  "nbformat": 4,
  "nbformat_minor": 0,
  "metadata": {
    "colab": {
      "name": "twitter day18",
      "version": "0.3.2",
      "provenance": [],
      "collapsed_sections": [],
      "include_colab_link": true
    },
    "kernelspec": {
      "name": "python3",
      "display_name": "Python 3"
    }
  },
  "cells": [
    {
      "cell_type": "markdown",
      "metadata": {
        "id": "view-in-github",
        "colab_type": "text"
      },
      "source": [
        "<a href=\"https://colab.research.google.com/github/Kanika018/Deep-Learning/blob/master/twitter_day18.ipynb\" target=\"_parent\"><img src=\"https://colab.research.google.com/assets/colab-badge.svg\" alt=\"Open In Colab\"/></a>"
      ]
    },
    {
      "cell_type": "code",
      "metadata": {
        "id": "jZ3wQR9pM6oi",
        "colab_type": "code",
        "colab": {}
      },
      "source": [
        "import tweepy\n",
        "import matplotlib.pyplot as plt\n",
        "import time\n",
        "from textblob import TextBlob"
      ],
      "execution_count": 0,
      "outputs": []
    },
    {
      "cell_type": "code",
      "metadata": {
        "id": "-2ZgDs6hORys",
        "colab_type": "code",
        "colab": {}
      },
      "source": [
        "consumer_key='CVFmG4DSOvGc1gVHtBP5qbYzJ'\n",
        "consumer_sec='t4ouGgBMNGbabfrSRe7k0rZUVdTIDGNYa7tqL4bEeoEYKitE2u'\n",
        "\n",
        "access_token='1091439390541271040-otarsi1XOiPZU5vw5L8yqkkNo0NX12'\n",
        "access_sec='nq41iqJPyrAHhqywycDn4HpYqLnSta2i412LsHBNjFSVk'\n"
      ],
      "execution_count": 0,
      "outputs": []
    },
    {
      "cell_type": "code",
      "metadata": {
        "id": "4ESV1TOkOrK9",
        "colab_type": "code",
        "colab": {}
      },
      "source": [
        "#tweety explore --\n",
        "# connecting to jump server of twitter\n",
        "auth=tweepy.OAuthHandler(consumer_key,consumer_sec)"
      ],
      "execution_count": 0,
      "outputs": []
    },
    {
      "cell_type": "code",
      "metadata": {
        "id": "K9PIwxuJPAB4",
        "colab_type": "code",
        "colab": {}
      },
      "source": [
        "# now we can connect from jump server to web server of twitter\n",
        "auth.set_access_token(access_token,access_sec)"
      ],
      "execution_count": 0,
      "outputs": []
    },
    {
      "cell_type": "code",
      "metadata": {
        "id": "ztpKcmHwPXia",
        "colab_type": "code",
        "colab": {}
      },
      "source": [
        "# now we can connect to API storage server of twitter\n",
        "api_connect=tweepy.API(auth)"
      ],
      "execution_count": 0,
      "outputs": []
    },
    {
      "cell_type": "code",
      "metadata": {
        "id": "hdr23t9oPjW_",
        "colab_type": "code",
        "colab": {}
      },
      "source": [
        "# now you can any topic on twitter\n",
        "tweet_data=api_connect.search('rahul gandhi',count=20)"
      ],
      "execution_count": 0,
      "outputs": []
    },
    {
      "cell_type": "code",
      "metadata": {
        "id": "iooTjvdmPw-K",
        "colab_type": "code",
        "colab": {
          "base_uri": "https://localhost:8080/",
          "height": 718
        },
        "outputId": "4561e97b-0b8a-460b-ccdc-ba9df57644be"
      },
      "source": [
        "pos=0\n",
        "neg=0\n",
        "neu=0\n",
        "# printing line by line \n",
        "for tweet in tweet_data:\n",
        "#  print(tweet.text)\n",
        "#  time.sleep(2)\n",
        "  analysis=TextBlob(tweet.text) # here it will apply NLP\n",
        "  print(analysis.sentiment)\n",
        "# now checking polarity only\n",
        "  if analysis.sentiment.polarity > 0:\n",
        "    print(\"positive\")\n",
        "    pos=pos+1\n",
        "  elif analysis.sentiment.polarity ==0:\n",
        "    print(\"neutral\")\n",
        "    neu=neu+1\n",
        "  else :\n",
        "    print('negative')\n",
        "    neg=neg+1\n",
        "  \n",
        "# plotting graphs\n",
        "plt.xlabel('tags')\n",
        "plt.ylabel('polarity')\n",
        "plt.bar(['positive','negative','neutral'],[pos,neg,neu])\n",
        "\n",
        "#plt.pie([pos,neg,neu],labels=[pos,neg,neu],autopct=%1.1f%%)\n",
        "plt.show()"
      ],
      "execution_count": 34,
      "outputs": [
        {
          "output_type": "stream",
          "text": [
            "Sentiment(polarity=0.5, subjectivity=0.5)\n",
            "positive\n",
            "Sentiment(polarity=0.0, subjectivity=0.0)\n",
            "neutral\n",
            "Sentiment(polarity=0.0, subjectivity=0.0)\n",
            "neutral\n",
            "Sentiment(polarity=0.0, subjectivity=0.0)\n",
            "neutral\n",
            "Sentiment(polarity=0.0, subjectivity=0.0)\n",
            "neutral\n",
            "Sentiment(polarity=0.0, subjectivity=0.0)\n",
            "neutral\n",
            "Sentiment(polarity=0.0, subjectivity=0.0)\n",
            "neutral\n",
            "Sentiment(polarity=-0.05, subjectivity=0.7)\n",
            "negative\n",
            "Sentiment(polarity=0.0, subjectivity=0.0)\n",
            "neutral\n",
            "Sentiment(polarity=-0.3333333333333333, subjectivity=0.7)\n",
            "negative\n",
            "Sentiment(polarity=0.0, subjectivity=0.0)\n",
            "neutral\n",
            "Sentiment(polarity=-0.016666666666666666, subjectivity=0.6333333333333333)\n",
            "negative\n",
            "Sentiment(polarity=-0.020833333333333332, subjectivity=0.4166666666666667)\n",
            "negative\n"
          ],
          "name": "stdout"
        },
        {
          "output_type": "display_data",
          "data": {
            "image/png": "[encoded data removed]",
            "text/plain": [
              "<Figure size 432x288 with 1 Axes>"
            ]
          },
          "metadata": {
            "tags": []
          }
        }
      ]
    },
    {
      "cell_type": "code",
      "metadata": {
        "id": "WwIPr9SPQXg9",
        "colab_type": "code",
        "colab": {
          "base_uri": "https://localhost:8080/",
          "height": 265
        },
        "outputId": "aa6d7f61-4f87-472b-84f9-34c878e03754"
      },
      "source": [
        "plt.xlabel('tags')\n",
        "plt.ylabel('polarity')\n",
        "#plt.bar(['positive','negative','neutral'],[pos,neg,neu])\n",
        "plt.pie([pos,neg,neu],labels=[pos,neg,neu])\n",
        "plt.show()"
      ],
      "execution_count": 35,
      "outputs": [
        {
          "output_type": "display_data",
          "data": {
            "image/png": "[encoded data removed]",
            "text/plain": [
              "<Figure size 432x288 with 1 Axes>"
            ]
          },
          "metadata": {
            "tags": []
          }
        }
      ]
    },
    {
      "cell_type": "code",
      "metadata": {
        "id": "5M1y8es5VDX1",
        "colab_type": "code",
        "colab": {}
      },
      "source": [
        ""
      ],
      "execution_count": 0,
      "outputs": []
    }
  ]
}